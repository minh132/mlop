{
 "cells": [
  {
   "cell_type": "code",
   "execution_count": 1,
   "metadata": {},
   "outputs": [],
   "source": [
    "import numpy as np\n",
    "import pickle\n",
    "from sklearn.compose import ColumnTransformer\n",
    "from sklearn.datasets import fetch_openml\n",
    "from sklearn.pipeline import Pipeline\n",
    "from sklearn.impute import SimpleImputer\n",
    "from sklearn.preprocessing import StandardScaler, OneHotEncoder\n",
    "from sklearn.linear_model import LogisticRegression\n",
    "from sklearn.model_selection import train_test_split, RandomizedSearchCV\n",
    "from sklearn.feature_selection import SelectPercentile, chi2\n",
    "from xgboost import XGBClassifier\n",
    "from sklearn.decomposition import PCA\n",
    "from sklearn.base import BaseEstimator, TransformerMixin\n",
    "from lightgbm import LGBMClassifier\n",
    "from sklearn.metrics import f1_score,roc_auc_score,recall_score\n",
    "import pandas as pd\n",
    "import json"
   ]
  },
  {
   "cell_type": "code",
   "execution_count": 10,
   "metadata": {},
   "outputs": [],
   "source": [
    "df = pd.read_parquet('raw_train.parquet')\n",
    "\n"
   ]
  },
  {
   "cell_type": "code",
   "execution_count": 20,
   "metadata": {},
   "outputs": [
    {
     "name": "stdout",
     "output_type": "stream",
     "text": [
      "0    41785\n",
      "1    18215\n",
      "Name: label, dtype: int64\n"
     ]
    },
    {
     "data": {
      "image/png": "[encoded data removed]",
      "text/plain": [
       "<Figure size 640x480 with 1 Axes>"
      ]
     },
     "metadata": {},
     "output_type": "display_data"
    }
   ],
   "source": [
    "label_counts = df['label'].value_counts()\n",
    "print(label_counts)\n",
    "# Plot biểu đồ cột\n",
    "label_counts.plot(kind='bar')\n",
    "plt.xlabel('Label')\n",
    "plt.ylabel('Count')\n",
    "plt.title('Label Count')\n",
    "plt.show()"
   ]
  },
  {
   "cell_type": "code",
   "execution_count": 12,
   "metadata": {},
   "outputs": [
    {
     "name": "stdout",
     "output_type": "stream",
     "text": [
      "feature1     object\n",
      "feature2     object\n",
      "feature3     object\n",
      "feature4     object\n",
      "feature5     object\n",
      "feature6     object\n",
      "feature7     object\n",
      "feature8     object\n",
      "feature9     object\n",
      "feature10    object\n",
      "feature11    object\n",
      "feature12    object\n",
      "feature13    object\n",
      "feature14    object\n",
      "feature15    object\n",
      "feature16    object\n",
      "feature17    object\n",
      "feature18    object\n",
      "feature19    object\n",
      "feature20    object\n",
      "dtype: object\n"
     ]
    }
   ],
   "source": [
    "X=df.drop('label',axis=1)\n",
    "Y=df['label']\n",
    "print(X.dtypes)\n",
    "X_train, X_test, Y_train, Y_test = train_test_split(X, Y, test_size=0.1, random_state=42)\n",
    "X_train, X_val, Y_train, Y_val = train_test_split(X_train, Y_train, test_size=0.1, random_state=42)"
   ]
  },
  {
   "cell_type": "code",
   "execution_count": 11,
   "metadata": {},
   "outputs": [
    {
     "name": "stdout",
     "output_type": "stream",
     "text": [
      "feature1     object\n",
      "feature2     object\n",
      "feature3     object\n",
      "feature4     object\n",
      "feature5     object\n",
      "feature6     object\n",
      "feature7     object\n",
      "feature8     object\n",
      "feature9     object\n",
      "feature10    object\n",
      "feature11    object\n",
      "feature12    object\n",
      "feature13    object\n",
      "feature14    object\n",
      "feature15    object\n",
      "feature16    object\n",
      "feature17    object\n",
      "feature18    object\n",
      "feature19    object\n",
      "feature20    object\n",
      "label         int64\n",
      "dtype: object\n"
     ]
    }
   ],
   "source": [
    "categorical_features = ['feature2', 'feature5','feature8','feature11','feature13','feature16','feature18']\n",
    "\n",
    "# Convert real number values to strings in categorical features\n",
    "df[categorical_features] = df[categorical_features].astype(str)\n",
    "print(df.dtypes)"
   ]
  },
  {
   "cell_type": "code",
   "execution_count": 36,
   "metadata": {},
   "outputs": [
    {
     "name": "stdout",
     "output_type": "stream",
     "text": [
      "0    4215\n",
      "1    1785\n",
      "Name: label, dtype: int64\n"
     ]
    }
   ],
   "source": [
    "label_counts_test = Y_test.value_counts()\n",
    "print(label_counts_test)"
   ]
  },
  {
   "cell_type": "code",
   "execution_count": 39,
   "metadata": {},
   "outputs": [
    {
     "name": "stdout",
     "output_type": "stream",
     "text": [
      "auc_score 0.7831424384700498\n",
      "f1_score 0.6797633136094675\n",
      "recall 0.8044817927170869\n"
     ]
    }
   ],
   "source": [
    "import xgboost as xgb\n",
    "xgb_model = xgb.XGBClassifier(random_state=0,scale_pos_weight=3)\n",
    "\n",
    "xgb_model.fit(X_train, Y_train)\n",
    "\n",
    "\n",
    "Y_pred_xgb = xgb_model.predict(X_test)\n",
    "print(\"auc_score\",roc_auc_score(Y_test,Y_pred_xgb))\n",
    "print('f1_score',f1_score(Y_test,Y_pred_xgb))\n",
    "print(\"recall\",recall_score(Y_test,Y_pred_xgb))"
   ]
  },
  {
   "cell_type": "code",
   "execution_count": 35,
   "metadata": {},
   "outputs": [],
   "source": [
    "filename = 'prob_2.ckpt'\n",
    "pickle.dump(xgb_model, open(filename, 'wb'))"
   ]
  },
  {
   "cell_type": "code",
   "execution_count": 8,
   "metadata": {},
   "outputs": [
    {
     "name": "stdout",
     "output_type": "stream",
     "text": [
      "[0, 1, 2, 3, 4, 5, 6, 7, 8, 9, 10, 11, 12, 13, 14, 15, 16, 17, 18, 19]\n"
     ]
    }
   ],
   "source": [
    "cat_features = list(range(0, X.shape[1]))\n",
    "print(cat_features)"
   ]
  },
  {
   "cell_type": "code",
   "execution_count": 15,
   "metadata": {},
   "outputs": [
    {
     "data": {
      "application/vnd.jupyter.widget-view+json": {
       "model_id": "16a7cbd50d7e48139579f27c9b3cae9b",
       "version_major": 2,
       "version_minor": 0
      },
      "text/plain": [
       "MetricVisualizer(layout=Layout(align_self='stretch', height='500px'))"
      ]
     },
     "metadata": {},
     "output_type": "display_data"
    },
    {
     "data": {
      "text/plain": [
       "<catboost.core.CatBoostClassifier at 0x7feacc7523e0>"
      ]
     },
     "execution_count": 15,
     "metadata": {},
     "output_type": "execute_result"
    }
   ],
   "source": [
    "from catboost import CatBoostClassifier\n",
    "\n",
    "clf = CatBoostClassifier(\n",
    "    # iterations=100,\n",
    "    # random_seed=42,\n",
    "    # custom_loss=['AUC', 'Recall'],\n",
    "    # verbose=False,\n",
    "    # random_state=0,\n",
    "    # scale_pos_weight=3\n",
    ")\n",
    "\n",
    "\n",
    "clf.fit(\n",
    "    X_train, Y_train,\n",
    "    cat_features=cat_features,\n",
    "    eval_set=(X_test, Y_test),\n",
    "    verbose=False,\n",
    "    plot=True\n",
    ")"
   ]
  },
  {
   "cell_type": "code",
   "execution_count": 16,
   "metadata": {},
   "outputs": [
    {
     "name": "stdout",
     "output_type": "stream",
     "text": [
      "auc_score 0.736280989264033\n",
      "f1_score 0.6332814930015551\n",
      "recall 0.7118881118881119\n"
     ]
    }
   ],
   "source": [
    "Y_pred_cb = clf.predict(X_test)\n",
    "print(\"auc_score\",roc_auc_score(Y_test,Y_pred_cb))\n",
    "print(\"f1_score\",f1_score(Y_pred_cb,Y_test))\n",
    "print(\"recall\",recall_score(Y_pred_cb,Y_test))"
   ]
  },
  {
   "cell_type": "code",
   "execution_count": 62,
   "metadata": {},
   "outputs": [
    {
     "name": "stderr",
     "output_type": "stream",
     "text": [
      "/home/minh/miniconda3/lib/python3.10/site-packages/lightgbm/sklearn.py:736: UserWarning: 'verbose' argument is deprecated and will be removed in a future release of LightGBM. Pass 'log_evaluation()' callback via 'callbacks' argument instead.\n",
      "  _log_warning(\"'verbose' argument is deprecated and will be removed in a future release of LightGBM. \"\n"
     ]
    },
    {
     "name": "stdout",
     "output_type": "stream",
     "text": [
      "auc_score 0.7822642224149446\n",
      "f1_score 0.6749547920433996\n",
      "recall 0.8364145658263306\n"
     ]
    }
   ],
   "source": [
    "from lightgbm import LGBMClassifier\n",
    "lgbmc_model=LGBMClassifier(random_state=0,scale_pos_weight=3)\n",
    "lgbmc_model.fit(X_train, Y_train,categorical_feature = 'auto',eval_set=(X_val, Y_val),feature_name='auto', verbose=0)\n",
    "\n",
    "Y_pred_lgbmc = lgbmc_model.predict(X_test)\n",
    "print(\"auc_score\",roc_auc_score(Y_test,Y_pred_lgbmc))\n",
    "print('f1_score',f1_score(Y_test,Y_pred_lgbmc))\n",
    "print(\"recall\",recall_score(Y_test,Y_pred_lgbmc))"
   ]
  },
  {
   "cell_type": "code",
   "execution_count": 64,
   "metadata": {},
   "outputs": [],
   "source": [
    "filename = 'prob_2.ckpt'\n",
    "pickle.dump(lgbmc_model, open(filename, 'wb'))"
   ]
  },
  {
   "cell_type": "code",
   "execution_count": 73,
   "metadata": {},
   "outputs": [
    {
     "data": {
      "text/plain": [
       "{'numeric_columns': ['feature2', 'feature5', 'feature13', 'feature18'],\n",
       " 'category_columns': ['feature1',\n",
       "  'feature3',\n",
       "  'feature4',\n",
       "  'feature6',\n",
       "  'feature7',\n",
       "  'feature8',\n",
       "  'feature9',\n",
       "  'feature10',\n",
       "  'feature11',\n",
       "  'feature12',\n",
       "  'feature14',\n",
       "  'feature15',\n",
       "  'feature16',\n",
       "  'feature17',\n",
       "  'feature19',\n",
       "  'feature20'],\n",
       " 'target_column': 'label',\n",
       " 'ml_type': 'classification'}"
      ]
     },
     "execution_count": 73,
     "metadata": {},
     "output_type": "execute_result"
    }
   ],
   "source": [
    "with open('features_config.json', 'r') as f:\n",
    "    features_config = json.load(f)\n",
    "features_config"
   ]
  },
  {
   "cell_type": "code",
   "execution_count": 74,
   "metadata": {},
   "outputs": [],
   "source": [
    "numeric_transformer = Pipeline(\n",
    "    steps=[(\"imputer\", SimpleImputer(strategy=\"median\")), \n",
    "           (\"scaler\", StandardScaler()),\n",
    "           ('pca', PCA())\n",
    "           ]\n",
    ")\n",
    "categorical_transformer = Pipeline(\n",
    "    steps=[\n",
    "        (\"encoder\", OneHotEncoder(handle_unknown=\"ignore\")),\n",
    "        # (\"selector\", SelectPercentile(chi2, percentile=50)),\n",
    "    ]\n",
    ")\n",
    "preprocessor = ColumnTransformer(\n",
    "    transformers=[\n",
    "        (\"num\", numeric_transformer, features_config['numeric_columns']),\n",
    "        (\"cat\", categorical_transformer, features_config['category_columns']),\n",
    "    ]\n",
    ")"
   ]
  },
  {
   "cell_type": "code",
   "execution_count": 82,
   "metadata": {},
   "outputs": [],
   "source": [
    "clf = Pipeline(\n",
    "    steps=[(\"preprocessor\", preprocessor), (\"model\", LGBMClassifier(random_state=0,scale_pos_weight=2.5))]\n",
    ")\n"
   ]
  },
  {
   "cell_type": "code",
   "execution_count": 83,
   "metadata": {},
   "outputs": [
    {
     "name": "stdout",
     "output_type": "stream",
     "text": [
      "auc_score 0.7801768394190416\n",
      "f1_score 0.6757647058823529\n",
      "recall 0.8044817927170869\n"
     ]
    }
   ],
   "source": [
    "clf.fit(X_train, Y_train)\n",
    "\n",
    "Y_pred_lgbmc = clf.predict(X_test)\n",
    "print(\"auc_score\",roc_auc_score(Y_test,Y_pred_lgbmc))\n",
    "print('f1_score',f1_score(Y_test,Y_pred_lgbmc))\n",
    "print(\"recall\",recall_score(Y_test,Y_pred_lgbmc))"
   ]
  },
  {
   "cell_type": "code",
   "execution_count": null,
   "metadata": {},
   "outputs": [],
   "source": [
    "filename = 'prob_2.ckpt'\n",
    "pickle.dump(clf, open(filename, 'wb'))"
   ]
  }
 ],
 "metadata": {
  "kernelspec": {
   "display_name": "base",
   "language": "python",
   "name": "python3"
  },
  "language_info": {
   "codemirror_mode": {
    "name": "ipython",
    "version": 3
   },
   "file_extension": ".py",
   "mimetype": "text/x-python",
   "name": "python",
   "nbconvert_exporter": "python",
   "pygments_lexer": "ipython3",
   "version": "3.10.8"
  },
  "orig_nbformat": 4
 },
 "nbformat": 4,
 "nbformat_minor": 2
}
